{
  "nbformat": 4,
  "nbformat_minor": 0,
  "metadata": {
    "colab": {
      "name": "Main",
      "provenance": [],
      "collapsed_sections": [],
      "machine_shape": "hm",
      "include_colab_link": true
    },
    "kernelspec": {
      "display_name": "Python 3",
      "language": "python",
      "name": "python3"
    },
    "language_info": {
      "codemirror_mode": {
        "name": "ipython",
        "version": 3
      },
      "file_extension": ".py",
      "mimetype": "text/x-python",
      "name": "python",
      "nbconvert_exporter": "python",
      "pygments_lexer": "ipython3",
      "version": "3.7.9"
    },
    "accelerator": "GPU"
  },
  "cells": [
    {
      "cell_type": "markdown",
      "metadata": {
        "id": "view-in-github",
        "colab_type": "text"
      },
      "source": [
        "<a href=\"https://colab.research.google.com/github/charliecrook/NLP_Contract_Classification/blob/main/Main.ipynb\" target=\"_parent\"><img src=\"https://colab.research.google.com/assets/colab-badge.svg\" alt=\"Open In Colab\"/></a>"
      ]
    },
    {
      "cell_type": "code",
      "metadata": {
        "colab": {
          "base_uri": "https://localhost:8080/"
        },
        "id": "wNiEJiXYcOJt",
        "outputId": "47e0912f-7739-49d1-bb34-cbdea9b38276"
      },
      "source": [
        "!pip install transformers\n",
        "from transformers import BertTokenizer\n",
        "\n",
        "import numpy as np\n",
        "import pandas as pd\n",
        "import matplotlib.pyplot as plt\n",
        "import seaborn as sns\n",
        "\n",
        "from sklearn.pipeline import make_pipeline\n",
        "from keras.preprocessing.sequence import pad_sequences\n",
        "from sklearn.preprocessing import OneHotEncoder\n",
        "from sklearn.model_selection import train_test_split\n",
        "import matplotlib.pyplot as plt\n",
        "\n",
        "from tensorflow import keras\n",
        "from sklearn.pipeline import Pipeline"
      ],
      "execution_count": 2,
      "outputs": [
        {
          "output_type": "stream",
          "name": "stdout",
          "text": [
            "Requirement already satisfied: transformers in /usr/local/lib/python3.7/dist-packages (4.17.0)\n",
            "Requirement already satisfied: tokenizers!=0.11.3,>=0.11.1 in /usr/local/lib/python3.7/dist-packages (from transformers) (0.11.6)\n",
            "Requirement already satisfied: filelock in /usr/local/lib/python3.7/dist-packages (from transformers) (3.6.0)\n",
            "Requirement already satisfied: huggingface-hub<1.0,>=0.1.0 in /usr/local/lib/python3.7/dist-packages (from transformers) (0.4.0)\n",
            "Requirement already satisfied: requests in /usr/local/lib/python3.7/dist-packages (from transformers) (2.23.0)\n",
            "Requirement already satisfied: sacremoses in /usr/local/lib/python3.7/dist-packages (from transformers) (0.0.47)\n",
            "Requirement already satisfied: numpy>=1.17 in /usr/local/lib/python3.7/dist-packages (from transformers) (1.21.5)\n",
            "Requirement already satisfied: importlib-metadata in /usr/local/lib/python3.7/dist-packages (from transformers) (4.11.2)\n",
            "Requirement already satisfied: packaging>=20.0 in /usr/local/lib/python3.7/dist-packages (from transformers) (21.3)\n",
            "Requirement already satisfied: tqdm>=4.27 in /usr/local/lib/python3.7/dist-packages (from transformers) (4.63.0)\n",
            "Requirement already satisfied: pyyaml>=5.1 in /usr/local/lib/python3.7/dist-packages (from transformers) (6.0)\n",
            "Requirement already satisfied: regex!=2019.12.17 in /usr/local/lib/python3.7/dist-packages (from transformers) (2019.12.20)\n",
            "Requirement already satisfied: typing-extensions>=3.7.4.3 in /usr/local/lib/python3.7/dist-packages (from huggingface-hub<1.0,>=0.1.0->transformers) (3.10.0.2)\n",
            "Requirement already satisfied: pyparsing!=3.0.5,>=2.0.2 in /usr/local/lib/python3.7/dist-packages (from packaging>=20.0->transformers) (3.0.7)\n",
            "Requirement already satisfied: zipp>=0.5 in /usr/local/lib/python3.7/dist-packages (from importlib-metadata->transformers) (3.7.0)\n",
            "Requirement already satisfied: urllib3!=1.25.0,!=1.25.1,<1.26,>=1.21.1 in /usr/local/lib/python3.7/dist-packages (from requests->transformers) (1.24.3)\n",
            "Requirement already satisfied: idna<3,>=2.5 in /usr/local/lib/python3.7/dist-packages (from requests->transformers) (2.10)\n",
            "Requirement already satisfied: certifi>=2017.4.17 in /usr/local/lib/python3.7/dist-packages (from requests->transformers) (2021.10.8)\n",
            "Requirement already satisfied: chardet<4,>=3.0.2 in /usr/local/lib/python3.7/dist-packages (from requests->transformers) (3.0.4)\n",
            "Requirement already satisfied: joblib in /usr/local/lib/python3.7/dist-packages (from sacremoses->transformers) (1.1.0)\n",
            "Requirement already satisfied: six in /usr/local/lib/python3.7/dist-packages (from sacremoses->transformers) (1.15.0)\n",
            "Requirement already satisfied: click in /usr/local/lib/python3.7/dist-packages (from sacremoses->transformers) (7.1.2)\n"
          ]
        }
      ]
    },
    {
      "cell_type": "code",
      "source": [
        "from google.colab import drive\n",
        "drive.mount('/content/drive')\n",
        "%cd /content/drive/MyDrive/ContractClassificationModel"
      ],
      "metadata": {
        "colab": {
          "base_uri": "https://localhost:8080/"
        },
        "id": "q73fB8fJnISA",
        "outputId": "c169d64f-0c16-4e94-e060-a0b5be55b625"
      },
      "execution_count": 3,
      "outputs": [
        {
          "output_type": "stream",
          "name": "stdout",
          "text": [
            "Drive already mounted at /content/drive; to attempt to forcibly remount, call drive.mount(\"/content/drive\", force_remount=True).\n",
            "/content/drive/MyDrive/ContractClassificationModel\n"
          ]
        }
      ]
    },
    {
      "cell_type": "markdown",
      "metadata": {
        "id": "5vNWKXpAc5E5"
      },
      "source": [
        "___________________________\n",
        "## Preprocessing Pipeline"
      ]
    },
    {
      "cell_type": "code",
      "source": [
        "from PreprocessingPipeline import SelectColumns, CombineColumns, FillNaN, OneHot, Tokenization, split_labels, split_data"
      ],
      "metadata": {
        "id": "ohmQMZzL4gRK"
      },
      "execution_count": 4,
      "outputs": []
    },
    {
      "cell_type": "code",
      "metadata": {
        "id": "CX4lQ9iSdF-Y"
      },
      "source": [
        "train = pd.read_csv('german-contracts-train.csv',dtype={\n",
        "      \"docid\":str,\n",
        "      \"publication_date\":str,\n",
        "      \"contract_type\":str,\n",
        "      \"nature_of_contract\":str,\n",
        "      \"country_code\":str,\n",
        "      \"country_name\":str,\n",
        "      \"sector\":str,\n",
        "      \"value\":float,\n",
        "      \"title\":str,\n",
        "      \"description\":str,\n",
        "      \"awarding_authority\":str,\n",
        "      \"complete_entry\":str,\n",
        "      \"General\":bool,\n",
        "      \"Defence\":bool,\n",
        "      \"Education & Culture\":bool,\n",
        "      \"Energy & Environment\":bool,\n",
        "      \"Health & Care\":bool,\n",
        "      \"Infrastructure & Construction\":bool,\n",
        "      \"Professional Services\":bool,\n",
        "      \"Technology & Communications\":bool,\n",
        "      \"Transport & Logistics\":bool,\n",
        "      \"label\":str})\n",
        "test = pd.read_csv('german-contracts-test.csv', dtype={\n",
        "      \"docid\":str,\n",
        "      \"publication_date\":str,\n",
        "      \"contract_type\":str,\n",
        "      \"nature_of_contract\":str,\n",
        "      \"country_code\":str,\n",
        "      \"country_name\":str,\n",
        "      \"sector\":str,\n",
        "      \"value\":float,\n",
        "      \"title\":str,\n",
        "      \"description\":str,\n",
        "      \"awarding_authority\":str,\n",
        "      \"complete_entry\":str,\n",
        "      \"General\":bool,\n",
        "      \"Defence\":bool,\n",
        "      \"Education & Culture\":bool,\n",
        "      \"Energy & Environment\":bool,\n",
        "      \"Health & Care\":bool,\n",
        "      \"Infrastructure & Construction\":bool,\n",
        "      \"Professional Services\":bool,\n",
        "      \"Technology & Communications\":bool,\n",
        "      \"Transport & Logistics\":bool,\n",
        "      })"
      ],
      "execution_count": 5,
      "outputs": []
    },
    {
      "cell_type": "code",
      "metadata": {
        "id": "T4ksWIUhuDNJ"
      },
      "source": [
        "preprocessPipe = make_pipeline(\n",
        "        SelectColumns(['nature_of_contract', 'title', 'description',\n",
        "                       'contract_type']), CombineColumns(['title', 'description']), \n",
        "                       FillNaN(), OneHot(), Tokenization(),)\n",
        "\n",
        "train_X = preprocessPipe.fit_transform(train)\n",
        "test_X = preprocessPipe.transform(test)\n",
        "train_y = split_labels(train['label'])"
      ],
      "execution_count": 6,
      "outputs": []
    },
    {
      "cell_type": "code",
      "metadata": {
        "id": "AEI65kxeudOj"
      },
      "source": [
        "# here we reserve a portion of the training set for out-of-sample testing after we train the model\n",
        "train_X, testing_X, train_y, testing_y = train_test_split(train_X, train_y, test_size=0.15, random_state=42) \n",
        "# we split the training data further into a training and validation set\n",
        "train_X, val_X, train_y, val_y = train_test_split(train_X, train_y, test_size=0.15, random_state=42) \n",
        "\n",
        "train_X = split_data(train_X)\n",
        "val_X = split_data(val_X)\n",
        "testing_X = split_data(testing_X)\n",
        "test_X = split_data(test_X)"
      ],
      "execution_count": 8,
      "outputs": []
    },
    {
      "cell_type": "markdown",
      "metadata": {
        "id": "VA7GO1otjYyJ"
      },
      "source": [
        "____________________________\n",
        "## Training and testing \n",
        "\n",
        "Functions contained in the module named 'training_testing_functions.py', which are used during training and evaluation of the models."
      ]
    },
    {
      "cell_type": "code",
      "source": [
        "from ClassificationModel import CNNVectorisationModel\n",
        "from TrainingFunctions import train_data, performance_report, kaggle_prediction"
      ],
      "metadata": {
        "id": "deVSI8XM5I8g"
      },
      "execution_count": 10,
      "outputs": []
    },
    {
      "cell_type": "code",
      "metadata": {
        "colab": {
          "base_uri": "https://localhost:8080/",
          "height": 1000
        },
        "id": "sfeAXUnxu8aG",
        "outputId": "5a484c21-3e67-4564-c882-3fb5959803a3"
      },
      "source": [
        "# Construct the model\n",
        "model = CNNVectorisationModel()\n",
        "\n",
        "# Define the early-stopping and performance scheduling callbacks\n",
        "early_stopping_cb = keras.callbacks.EarlyStopping(monitor='val_loss', \n",
        "                                                  patience=5, \n",
        "                                                  restore_best_weights=True)\n",
        "\n",
        "# Fit the model to the training data\n",
        "history = train_data(train_X, train_y, \n",
        "                val_X, val_y, \n",
        "                model=model, \n",
        "                loss='binary_crossentropy', \n",
        "                optimizer=keras.optimizers.Adam(lr=1e-3), \n",
        "                epochs=50,\n",
        "                batch_size=32,\n",
        "                callbacks=[early_stopping_cb],\n",
        "                model_version='CNNVectorisation_1_1',\n",
        "                model_name='CNNVectorisation')"
      ],
      "execution_count": 11,
      "outputs": [
        {
          "output_type": "stream",
          "name": "stderr",
          "text": [
            "/usr/local/lib/python3.7/dist-packages/keras/optimizer_v2/adam.py:105: UserWarning: The `lr` argument is deprecated, use `learning_rate` instead.\n",
            "  super(Adam, self).__init__(name, **kwargs)\n"
          ]
        },
        {
          "output_type": "stream",
          "name": "stdout",
          "text": [
            "Epoch 1/50\n",
            "2220/2220 [==============================] - 27s 11ms/step - loss: 0.8722 - accuracy: 0.7768 - val_loss: 0.0763 - val_accuracy: 0.8897\n",
            "Epoch 2/50\n",
            "2220/2220 [==============================] - 26s 12ms/step - loss: 0.0833 - accuracy: 0.9005 - val_loss: 0.0659 - val_accuracy: 0.9138\n",
            "Epoch 3/50\n",
            "2220/2220 [==============================] - 25s 11ms/step - loss: 0.0676 - accuracy: 0.9157 - val_loss: 0.0606 - val_accuracy: 0.9220\n",
            "Epoch 4/50\n",
            "2220/2220 [==============================] - 25s 11ms/step - loss: 0.0618 - accuracy: 0.9229 - val_loss: 0.0583 - val_accuracy: 0.9217\n",
            "Epoch 5/50\n",
            "2220/2220 [==============================] - 25s 11ms/step - loss: 0.0594 - accuracy: 0.9249 - val_loss: 0.0562 - val_accuracy: 0.9210\n",
            "Epoch 6/50\n",
            "2220/2220 [==============================] - 26s 12ms/step - loss: 0.0546 - accuracy: 0.9277 - val_loss: 0.0545 - val_accuracy: 0.9243\n",
            "Epoch 7/50\n",
            "2220/2220 [==============================] - 24s 11ms/step - loss: 0.0534 - accuracy: 0.9294 - val_loss: 0.0537 - val_accuracy: 0.9257\n",
            "Epoch 8/50\n",
            "2220/2220 [==============================] - 26s 12ms/step - loss: 0.0511 - accuracy: 0.9302 - val_loss: 0.0541 - val_accuracy: 0.9233\n",
            "Epoch 9/50\n",
            "2220/2220 [==============================] - 26s 12ms/step - loss: 0.0491 - accuracy: 0.9328 - val_loss: 0.0536 - val_accuracy: 0.9256\n",
            "Epoch 10/50\n",
            "2220/2220 [==============================] - 26s 12ms/step - loss: 0.0491 - accuracy: 0.9332 - val_loss: 0.0512 - val_accuracy: 0.9272\n",
            "Epoch 11/50\n",
            "2220/2220 [==============================] - 25s 11ms/step - loss: 0.0465 - accuracy: 0.9344 - val_loss: 0.0514 - val_accuracy: 0.9274\n",
            "Epoch 12/50\n",
            "2220/2220 [==============================] - 26s 12ms/step - loss: 0.0486 - accuracy: 0.9336 - val_loss: 0.0519 - val_accuracy: 0.9296\n",
            "Epoch 13/50\n",
            "2220/2220 [==============================] - 26s 12ms/step - loss: 0.0494 - accuracy: 0.9343 - val_loss: 0.0513 - val_accuracy: 0.9265\n",
            "Epoch 14/50\n",
            "2220/2220 [==============================] - 26s 12ms/step - loss: 0.0427 - accuracy: 0.9354 - val_loss: 0.0519 - val_accuracy: 0.9270\n",
            "Epoch 15/50\n",
            "2220/2220 [==============================] - 25s 11ms/step - loss: 0.0455 - accuracy: 0.9357 - val_loss: 0.0502 - val_accuracy: 0.9272\n",
            "Epoch 16/50\n",
            "2220/2220 [==============================] - 26s 12ms/step - loss: 0.0496 - accuracy: 0.9354 - val_loss: 0.0498 - val_accuracy: 0.9276\n",
            "Epoch 17/50\n",
            "2220/2220 [==============================] - 25s 11ms/step - loss: 0.0445 - accuracy: 0.9351 - val_loss: 0.0496 - val_accuracy: 0.9284\n",
            "Epoch 18/50\n",
            "2220/2220 [==============================] - 26s 12ms/step - loss: 0.0442 - accuracy: 0.9366 - val_loss: 0.0508 - val_accuracy: 0.9296\n",
            "Epoch 19/50\n",
            "2220/2220 [==============================] - 24s 11ms/step - loss: 0.0425 - accuracy: 0.9366 - val_loss: 0.0505 - val_accuracy: 0.9289\n",
            "Epoch 20/50\n",
            "2220/2220 [==============================] - 25s 11ms/step - loss: 0.0456 - accuracy: 0.9365 - val_loss: 0.0499 - val_accuracy: 0.9277\n",
            "Epoch 21/50\n",
            "2220/2220 [==============================] - 26s 12ms/step - loss: 0.0393 - accuracy: 0.9371 - val_loss: 0.0499 - val_accuracy: 0.9278\n",
            "Epoch 22/50\n",
            "2220/2220 [==============================] - 26s 12ms/step - loss: 0.0467 - accuracy: 0.9374 - val_loss: 0.0492 - val_accuracy: 0.9272\n",
            "Epoch 23/50\n",
            "2220/2220 [==============================] - 25s 11ms/step - loss: 0.0436 - accuracy: 0.9371 - val_loss: 0.0494 - val_accuracy: 0.9291\n",
            "Epoch 24/50\n",
            "2220/2220 [==============================] - 26s 12ms/step - loss: 0.0370 - accuracy: 0.9373 - val_loss: 0.0490 - val_accuracy: 0.9296\n",
            "Epoch 25/50\n",
            "2220/2220 [==============================] - 26s 12ms/step - loss: 0.0426 - accuracy: 0.9381 - val_loss: 0.0504 - val_accuracy: 0.9292\n",
            "Epoch 26/50\n",
            "2220/2220 [==============================] - 25s 11ms/step - loss: 0.0414 - accuracy: 0.9376 - val_loss: 0.0490 - val_accuracy: 0.9277\n",
            "Epoch 27/50\n",
            "2220/2220 [==============================] - 26s 12ms/step - loss: 0.0360 - accuracy: 0.9380 - val_loss: 0.0499 - val_accuracy: 0.9312\n",
            "Epoch 28/50\n",
            "2220/2220 [==============================] - 25s 11ms/step - loss: 0.0399 - accuracy: 0.9379 - val_loss: 0.0493 - val_accuracy: 0.9289\n",
            "Epoch 29/50\n",
            "2220/2220 [==============================] - 26s 12ms/step - loss: 0.0370 - accuracy: 0.9387 - val_loss: 0.0495 - val_accuracy: 0.9292\n"
          ]
        },
        {
          "output_type": "display_data",
          "data": {
            "image/png": "[encoded data removed]",
            "text/plain": [
              "<Figure size 576x432 with 1 Axes>"
            ]
          },
          "metadata": {
            "needs_background": "light"
          }
        }
      ]
    },
    {
      "cell_type": "code",
      "metadata": {
        "colab": {
          "base_uri": "https://localhost:8080/"
        },
        "id": "0NnF8ig_waXl",
        "outputId": "ee604d0a-7b5b-42ea-a617-e846ef12643a"
      },
      "source": [
        "# Examine the performance on the testing data\n",
        "performance_report(testing_X, testing_y, model)"
      ],
      "execution_count": 12,
      "outputs": [
        {
          "output_type": "stream",
          "name": "stdout",
          "text": [
            "461/461 [==============================] - 2s 4ms/step - loss: 0.0489 - accuracy: 0.9301\n",
            "total loss: [0.048907678574323654, 0.9300922155380249]\n",
            "Global accuracy: 0.9098182804448061\n",
            "Global f1 score: 0.9410542355844226\n",
            "\n",
            "\n",
            "[[[13291    92]\n",
            "  [  318  1047]]\n",
            "\n",
            " [[14380    26]\n",
            "  [  139   203]]\n",
            "\n",
            " [[14239    15]\n",
            "  [   88   406]]\n",
            "\n",
            " [[13574    29]\n",
            "  [  132  1013]]\n",
            "\n",
            " [[13772    14]\n",
            "  [  125   837]]\n",
            "\n",
            " [[ 5725   147]\n",
            "  [  173  8703]]\n",
            "\n",
            " [[13476    28]\n",
            "  [  174  1070]]\n",
            "\n",
            " [[14091    18]\n",
            "  [  139   500]]\n",
            "\n",
            " [[13591    23]\n",
            "  [  102  1032]]]\n"
          ]
        }
      ]
    },
    {
      "cell_type": "code",
      "metadata": {
        "id": "bt3yMh1iwc3g"
      },
      "source": [
        "# Create Kaggle csv submission file\n",
        "result_ids = pd.DataFrame(test['docid'])\n",
        "kaggle_prediction(test_X, result_ids, model, '/content/drive/MyDrive/ContractClassificationModel/CNNVectorisationSubmission.csv')"
      ],
      "execution_count": 20,
      "outputs": []
    },
    {
      "cell_type": "code",
      "source": [
        ""
      ],
      "metadata": {
        "id": "-0Kbbi36KzaD"
      },
      "execution_count": null,
      "outputs": []
    }
  ]
}